{
 "cells": [
  {
   "cell_type": "code",
   "execution_count": 1,
   "id": "114c8e0f",
   "metadata": {},
   "outputs": [],
   "source": [
    "#Class Category\n",
    "class Category():\n",
    "    amount1=0\n",
    "    #Methods\n",
    "    def __init__(self, name, balance=0,track=[],ledger=[]):\n",
    "        self.name=name\n",
    "        self.balance=balance\n",
    "        self.track=track\n",
    "        self.ledger=ledger\n",
    "        \n",
    "    \n",
    "    def deposit(self,amount,description=None):\n",
    "        self.amount=amount\n",
    "        self.description=description\n",
    "        \n",
    "        if self.description is not None:\n",
    "            self.ledger.insert(0,{'amount':self.amount,'description':self.description})\n",
    "            self.track.append({'category':self.name,'amount':self.amount,'description':self.description})\n",
    "            print(self.ledger[0])\n",
    "        \n",
    "        elif self.description is None:\n",
    "            self.ledger.insert(0,{'amount':self.amount,'description':\" \"})\n",
    "            self.track.append({'category':self.name,'amount':self.amount,'description':\" \"})\n",
    "            print(self.ledger[0])\n",
    "            \n",
    "            \n",
    "            return self.ledger[0]\n",
    "        \n",
    "    def get_balance(self, balance1=int):\n",
    "        self.balance1=balance1\n",
    "        \n",
    "        if len(self.ledger)<1:\n",
    "            self.balance=0\n",
    "            \n",
    "        if len(self.ledger)>=1:\n",
    "            self.balance=self.amount-self.amount1\n",
    "        \n",
    "        return self.balance\n",
    "    \n",
    "    def check_funds(self, amount2):\n",
    "        self.amount2=amount2\n",
    "        \n",
    "        if self.amount2>self.amount:\n",
    "            return False\n",
    "        \n",
    "        if self.amount2<=self.amount:\n",
    "            return True\n",
    "        \n",
    "    def withdraw(self, amount1, description1=None):\n",
    "        self.amount1=amount1\n",
    "        self.description1=description1\n",
    "        \n",
    "        if self.check_funds(self.amount1) is True:\n",
    "            if self.description is not None:\n",
    "                self.ledger.insert(1,{'amount':-self.amount1,'description':self.description1})\n",
    "                self.track.append({'category':self.name,'amount':-self.amount1,'description':self.description1})\n",
    "                print(self.ledger[1])\n",
    "            \n",
    "            if self.description is None:\n",
    "                self.ledger.insert(1,{'amount':-self.amount1,'description':\" \"})\n",
    "                self.track.append({'category':self.name,'amount':-self.amount1,'description':\" \"})\n",
    "                print(self.ledger[1])\n",
    "            return True\n",
    "        \n",
    "        if self.check_funds(self.amount1) is False:\n",
    "            return False\n",
    "            \n",
    "    def transfer(self,amount3,cat_dest):\n",
    "        self.amount3=amount3\n",
    "        \n",
    "        if self.check_funds(self.amount3) is True:\n",
    "            self.ledger.insert(1,{'amount':-self.amount3,'description':f\"Transfer to {cat_dest.name}\"})\n",
    "            self.track.append({'category':self.name,'amount':-self.amount3,'description':f\"Transfer to {cat_dest.name}\"})\n",
    "            cat_dest.ledger.insert(0,{'amount':self.amount3,'description':f\"Transfer from {self.name}\"})\n",
    "            self.track.append({'category':cat_dest.name,'amount':self.amount3,'description':f\"Transfer from {self.name}\"})\n",
    "            \n",
    "            print(self.ledger[1],\"\\n\",cat_dest.ledger[0])\n",
    "            return True\n",
    "        \n",
    "        if self.check_funds(self.amount1) is False:\n",
    "            return False\n",
    "                                \n",
    "\n",
    "    def __str__(self, track_str=str,total=int):          \n",
    "        total=0\n",
    "        max_dep=-1\n",
    "        max_track=-1\n",
    "        \n",
    "        obj_str=str\n",
    "        \n",
    "        #find last deposit in the track list for the object\n",
    "        for i in range(len(self.track)):\n",
    "            if self.track[i].get('category')==self.name:\n",
    "                if self.track[i].get('amount')>0:\n",
    "                    if i>max_dep:\n",
    "                        max_dep=i\n",
    "            else:\n",
    "                continue\n",
    "        \n",
    "        # find the last deposit of the track\n",
    "        for i in range(len(self.track)):\n",
    "            if self.track[i].get('amount')>0:\n",
    "                    if i>max_track:\n",
    "                        max_track=i\n",
    "            else:\n",
    "                continue\n",
    "                \n",
    "        #Compute the total of the object\n",
    "        for k in self.track[max_dep:max_track]:\n",
    "            total=total+k.get('amount') \n",
    "                \n",
    "        # print the name of the category\n",
    "        print(f'{\"*\"*((30-len({self.name}))//2)}{self.name}{\"*\"*((30-len({self.name}))//2)}')\n",
    "        \n",
    "       \n",
    "        # print the description and their amount\n",
    "        for i in self.track[max_dep:max_track]:\n",
    "            if len(i.get('description'))<24:\n",
    "                esp1=\" \"*(28-len(i.get('description'))-len(\"{:.2f}\".format(i.get(\"amount\"))))\n",
    "                print(i.get('description'),esp1,\"{:.2f}\".format(i.get('amount')))\n",
    "            \n",
    "            else:\n",
    "            #    esp1=\" \"*(6-len(\"{:.2f}\".format(i.get('amount')))\n",
    "             #   print(i.get('description'),esp1,\"{:.2f}\".format(i.get('amount')))\n",
    "        \n",
    "                print(i.get('description')[:23],\"{:.2f}\".format(i.get('amount'))) \n",
    "        \n",
    "        return f'Total: {total}'"
   ]
  },
  {
   "cell_type": "code",
   "execution_count": 2,
   "id": "2751b6a0",
   "metadata": {},
   "outputs": [],
   "source": [
    "def create_spend_chart(categories):\n",
    "   \n",
    "    max_w=-1\n",
    "    max_d=-1\n",
    "    val_1=list()\n",
    "    val_w=list()\n",
    "    por_c=list()\n",
    "    por=list()\n",
    "    por_cat=list()\n",
    "    str1=str\n",
    "    \n",
    "    list_str=list()\n",
    "    list_cat=list()\n",
    "           \n",
    "    \n",
    "    por=[100,90,80,70,60,50,40,30,20,10,0]\n",
    "    \n",
    "    #find the last deposit in the track list\n",
    "    for i in range(len(food.track)):\n",
    "        if food.track[i].get('amount')>0:\n",
    "            if i>max_d:\n",
    "                max_d=i\n",
    "        else:\n",
    "            continue\n",
    "            \n",
    "    # Contains the last withdraws in the track list    \n",
    "    val_1=food.track[max_d+1:]\n",
    "    \n",
    "    # creates a lists of the withdraws\n",
    "    for i in val_1:\n",
    "        val_w.append(i.get('amount'))\n",
    "    \n",
    "    #Compute the percentage of every withdraw\n",
    "    import math \n",
    "    for k in val_w:\n",
    "        por_c.append((((abs(k)/abs(sum(val_w)))*100)//10)*10)\n",
    "    \n",
    "    for j in por_c:\n",
    "        por_cat.append(int(j))\n",
    "    \n",
    "    # creates the string chain for the percentages\n",
    "    str_por=str\n",
    "    #for i in list(reversed(por)):\n",
    "     #   str_por=str_por+str(i)\n",
    "            \n",
    "    str_o=list()\n",
    "    for i in por_cat:\n",
    "        for j in list(reversed(por)):\n",
    "            if j<=i:\n",
    "                str_o.append('o' +' ')\n",
    "            else:\n",
    "                str_o.append(\" \")\n",
    "                \n",
    "    # Split the str_o into sublists of given length.\n",
    "    n = int(len(str_o)/len(categories))  # Number of elements per sublist\n",
    "\n",
    "    sublists = [str_o[i:i + n] for i in range(0, len(str_o), n)] \n",
    "        \n",
    "    # Calculates the max word between the set of category names    \n",
    "    len_max=0\n",
    "    max_word=str\n",
    "    \n",
    "    list_names=list()\n",
    "        \n",
    "    for i in categories:\n",
    "        list_names.append(i.name)\n",
    "    \n",
    "    for j in list_names:\n",
    "        if len(j)>len_max:\n",
    "            len_max=len(j)\n",
    "            max_word=j\n",
    "    \n",
    "    list_mod=list() # all category names with the same len\n",
    "    for i in list_names:\n",
    "        if i!=max_word:\n",
    "            list_mod.append(\" \"*(len_max-len(i))+i)\n",
    "        else:\n",
    "            list_mod.append(i)\n",
    "    \n",
    "    por2=\" \".join(str(j) for j in list(reversed(por)))\n",
    "    por2=\" \"+\" \"*len_max+\"|\"+ \" \"+por2\n",
    "        \n",
    "    for i in range(len(categories)):\n",
    "        print(list_mod[i],\"|\",\" \".join(sublists[i]))\n",
    "    \n",
    "    print(por2)"
   ]
  },
  {
   "cell_type": "code",
   "execution_count": 3,
   "id": "0da9b73b",
   "metadata": {},
   "outputs": [],
   "source": [
    "food = Category(\"Food\")\n",
    "entertainment = Category(\"Entertainment\")\n",
    "business = Category(\"Business\")\n"
   ]
  },
  {
   "cell_type": "code",
   "execution_count": 4,
   "id": "51538e4a",
   "metadata": {},
   "outputs": [
    {
     "name": "stdout",
     "output_type": "stream",
     "text": [
      "{'amount': 900, 'description': 'deposit'}\n"
     ]
    }
   ],
   "source": [
    "food.deposit(900, \"deposit\")\n",
    "#expected = {\"amount\": 900, \"description\": \"deposit\"}"
   ]
  },
  {
   "cell_type": "code",
   "execution_count": 5,
   "id": "b9a6fcb0",
   "metadata": {},
   "outputs": [
    {
     "name": "stdout",
     "output_type": "stream",
     "text": [
      "{'amount': 45.56, 'description': ' '}\n"
     ]
    },
    {
     "data": {
      "text/plain": [
       "{'amount': 45.56, 'description': ' '}"
      ]
     },
     "execution_count": 5,
     "metadata": {},
     "output_type": "execute_result"
    }
   ],
   "source": [
    "food.deposit(45.56)\n",
    "#expected = {\"amount\": 45.56, \"description\": \"\"}"
   ]
  },
  {
   "cell_type": "code",
   "execution_count": 6,
   "id": "7fc9c4d4",
   "metadata": {},
   "outputs": [
    {
     "name": "stdout",
     "output_type": "stream",
     "text": [
      "{'amount': 900, 'description': 'deposit'}\n",
      "{'amount': -45.67, 'description': 'milk, cereal, eggs, bacon, bread'}\n"
     ]
    },
    {
     "data": {
      "text/plain": [
       "True"
      ]
     },
     "execution_count": 6,
     "metadata": {},
     "output_type": "execute_result"
    }
   ],
   "source": [
    "food.deposit(900, \"deposit\")\n",
    "#expected = {\"amount\": 900, \"description\": \"deposit\"}\n",
    "food.withdraw(45.67, \"milk, cereal, eggs, bacon, bread\")\n",
    "#expected = {\"amount\": -45.67, \"description\": \"milk, cereal, eggs, bacon, bread\"}\n"
   ]
  },
  {
   "cell_type": "code",
   "execution_count": 7,
   "id": "35ed9d15",
   "metadata": {},
   "outputs": [
    {
     "name": "stdout",
     "output_type": "stream",
     "text": [
      "{'amount': 900, 'description': 'deposit'}\n",
      "{'amount': -45.67, 'description': None}\n"
     ]
    },
    {
     "data": {
      "text/plain": [
       "True"
      ]
     },
     "execution_count": 7,
     "metadata": {},
     "output_type": "execute_result"
    }
   ],
   "source": [
    "food.deposit(900, \"deposit\")\n",
    "food.withdraw(45.67)\n",
    "#expected = {\"amount\": -45.67, \"description\": \"\"}\n",
    "# good_withdraw, True, 'Expected `withdraw` method to return `True`.'"
   ]
  },
  {
   "cell_type": "code",
   "execution_count": 8,
   "id": "25ba8957",
   "metadata": {},
   "outputs": [
    {
     "name": "stdout",
     "output_type": "stream",
     "text": [
      "{'amount': 900, 'description': 'deposit'}\n",
      "{'amount': -45.67, 'description': 'milk, cereal, eggs, bacon, bread'}\n",
      "854.33\n",
      "0\n"
     ]
    }
   ],
   "source": [
    "food.deposit(900, \"deposit\")\n",
    "food.withdraw(45.67, \"milk, cereal, eggs, bacon, bread\")\n",
    "food_balance_before = food.get_balance()\n",
    "print(food_balance_before)\n",
    "entertainment_balance_before = entertainment.balance # expected zero - 0\n",
    "print(entertainment_balance_before)\n",
    "transfer_amount = 20\n",
    "#expected  food balance= 854.33\n",
    "#expected entertainment balance = 0"
   ]
  },
  {
   "cell_type": "code",
   "execution_count": 9,
   "id": "35b60743",
   "metadata": {},
   "outputs": [
    {
     "name": "stdout",
     "output_type": "stream",
     "text": [
      "{'amount': 10, 'description': 'deposit'}\n"
     ]
    },
    {
     "data": {
      "text/plain": [
       "False"
      ]
     },
     "execution_count": 9,
     "metadata": {},
     "output_type": "execute_result"
    }
   ],
   "source": [
    "food.deposit(10, \"deposit\")\n",
    "food.check_funds(20)\n",
    "#expected = False"
   ]
  },
  {
   "cell_type": "code",
   "execution_count": 10,
   "id": "7fd27f04",
   "metadata": {},
   "outputs": [
    {
     "data": {
      "text/plain": [
       "True"
      ]
     },
     "execution_count": 10,
     "metadata": {},
     "output_type": "execute_result"
    }
   ],
   "source": [
    "food.check_funds(10)\n",
    "#expected = True"
   ]
  },
  {
   "cell_type": "code",
   "execution_count": 11,
   "id": "3ca2453b",
   "metadata": {},
   "outputs": [
    {
     "name": "stdout",
     "output_type": "stream",
     "text": [
      "{'amount': 100, 'description': 'deposit'}\n"
     ]
    },
    {
     "data": {
      "text/plain": [
       "False"
      ]
     },
     "execution_count": 11,
     "metadata": {},
     "output_type": "execute_result"
    }
   ],
   "source": [
    "food.deposit(100, \"deposit\")\n",
    "food.withdraw(100.10)\n",
    "#Expected method to return `False`.')"
   ]
  },
  {
   "cell_type": "code",
   "execution_count": 12,
   "id": "4c4267be",
   "metadata": {},
   "outputs": [
    {
     "name": "stdout",
     "output_type": "stream",
     "text": [
      "{'amount': 100, 'description': 'deposit'}\n"
     ]
    },
    {
     "data": {
      "text/plain": [
       "False"
      ]
     },
     "execution_count": 12,
     "metadata": {},
     "output_type": "execute_result"
    }
   ],
   "source": [
    "food.deposit(100, \"deposit\")\n",
    "food.transfer(200, entertainment)\n",
    "#Expected `transfer` method to return `False`.')"
   ]
  },
  {
   "cell_type": "code",
   "execution_count": 13,
   "id": "25c59729",
   "metadata": {
    "scrolled": true
   },
   "outputs": [
    {
     "name": "stdout",
     "output_type": "stream",
     "text": [
      "{'amount': 900, 'description': 'deposit'}\n",
      "{'amount': -45.67, 'description': 'milk, cereal, eggs, bacon, bread'}\n",
      "{'amount': 900, 'description': 'deposit'} \n",
      " {'amount': 20, 'description': 'Transfer from Food'}\n"
     ]
    },
    {
     "data": {
      "text/plain": [
       "True"
      ]
     },
     "execution_count": 13,
     "metadata": {},
     "output_type": "execute_result"
    }
   ],
   "source": [
    "food.deposit(900, \"deposit\")\n",
    "food.withdraw(45.67, \"milk, cereal, eggs, bacon, bread\")\n",
    "food.transfer(20, entertainment)"
   ]
  },
  {
   "cell_type": "code",
   "execution_count": 14,
   "id": "56430c44",
   "metadata": {},
   "outputs": [
    {
     "name": "stdout",
     "output_type": "stream",
     "text": [
      "**************Food**************\n",
      "deposit                 900.00\n",
      "milk, cereal, eggs, bac -45.67\n",
      "Transfer to Entertainme -20.00\n",
      "Total: 834.33\n"
     ]
    }
   ],
   "source": [
    "# imprimir food\n",
    "print(food)"
   ]
  },
  {
   "cell_type": "code",
   "execution_count": 15,
   "id": "bf46468f",
   "metadata": {},
   "outputs": [
    {
     "name": "stdout",
     "output_type": "stream",
     "text": [
      "*************Food*************\n",
      "deposit                 900.00\n",
      "milk, cereal, eggs, bac -45.67\n",
      "Transfer to Entertainme -20.00\n",
      "Total: 834.33\n"
     ]
    }
   ],
   "source": [
    "# expected \n",
    "print(f\"*************Food*************\\ndeposit                 900.00\\nmilk, cereal, eggs, bac -45.67\\nTransfer to Entertainme -20.00\\nTotal: 834.33\")"
   ]
  },
  {
   "cell_type": "code",
   "execution_count": 16,
   "id": "c4ec70f1",
   "metadata": {},
   "outputs": [
    {
     "name": "stdout",
     "output_type": "stream",
     "text": [
      "{'amount': 900, 'description': 'deposit'}\n",
      "{'amount': 900, 'description': 'deposit'}\n",
      "{'amount': 900, 'description': 'deposit'}\n",
      "{'amount': -10.99, 'description': None}\n",
      "{'amount': -105.55, 'description': None}\n",
      "{'amount': -33.4, 'description': None}\n",
      "     Business | o                     \n",
      "         Food | o  o  o  o  o  o  o  o       \n",
      "Entertainment | o  o  o                 \n",
      "              | 0 10 20 30 40 50 60 70 80 90 100\n"
     ]
    }
   ],
   "source": [
    "food.deposit(900, \"deposit\")\n",
    "entertainment.deposit(900, \"deposit\")\n",
    "business.deposit(900, \"deposit\")\n",
    "\n",
    "business.withdraw(10.99)\n",
    "food.withdraw(105.55)\n",
    "entertainment.withdraw(33.40)\n",
    "\n",
    "create_spend_chart([business, food, entertainment])"
   ]
  },
  {
   "cell_type": "code",
   "execution_count": null,
   "id": "92fc2f09",
   "metadata": {},
   "outputs": [],
   "source": []
  }
 ],
 "metadata": {
  "kernelspec": {
   "display_name": "Python 3 (ipykernel)",
   "language": "python",
   "name": "python3"
  },
  "language_info": {
   "codemirror_mode": {
    "name": "ipython",
    "version": 3
   },
   "file_extension": ".py",
   "mimetype": "text/x-python",
   "name": "python",
   "nbconvert_exporter": "python",
   "pygments_lexer": "ipython3",
   "version": "3.9.13"
  }
 },
 "nbformat": 4,
 "nbformat_minor": 5
}
